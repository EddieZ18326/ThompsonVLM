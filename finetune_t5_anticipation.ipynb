{
 "cells": [
  {
   "cell_type": "code",
   "execution_count": null,
   "metadata": {},
   "outputs": [],
   "source": [
    "from transformers import AutoTokenizer, AutoModelForSeq2SeqLM\n",
    "from datasets import load_dataset\n",
    "# Load T0 model and tokenizer\n",
    "model_name = \"t5-small\"\n",
    "tokenizer = AutoTokenizer.from_pretrained(model_name)\n",
    "model = AutoModelForSeq2SeqLM.from_pretrained(model_name)\n",
    "\n",
    "dataset = load_dataset(\"csv\", data_files=\"/Users/eddie/Downloads/VLMTrain/Train/Train_Anticipation_All.csv\")\n",
    "test_dataset = load_dataset(\"csv\", data_files=\"/Users/eddie/Downloads/VLMTrain/MViTv2/MViTv2_Test_Anticipation.csv\")\n",
    "print(dataset)\n"
   ]
  },
  {
   "cell_type": "code",
   "execution_count": null,
   "metadata": {},
   "outputs": [],
   "source": [
    "def preprocess_data(examples):\n",
    "    inputs = examples[\"context\"]\n",
    "    print(inputs)\n",
    "    targets = examples[\"answer\"]\n",
    "    model_inputs = tokenizer(inputs, padding=\"max_length\", truncation=True, max_length=1024)\n",
    "    labels = tokenizer(targets, padding=\"max_length\", truncation=True, max_length=25)\n",
    "    model_inputs[\"labels\"] = labels[\"input_ids\"]\n",
    "    return model_inputs\n",
    "\n",
    "dataset = dataset.map(preprocess_data, batched=True)\n",
    "test_dataset = test_dataset.map(preprocess_data, batched = True)\n",
    "print(dataset)\n"
   ]
  },
  {
   "cell_type": "code",
   "execution_count": null,
   "metadata": {},
   "outputs": [],
   "source": [
    "num_epochs = 1 \n",
    "from transformers import TrainingArguments, Trainer\n",
    "for i in range(num_epochs):\n",
    "\n",
    "    training_args = TrainingArguments(\n",
    "        output_dir=\"./ul2_qa\",\n",
    "        evaluation_strategy=\"epoch\",\n",
    "        save_strategy=\"no\",\n",
    "        per_device_train_batch_size=8,\n",
    "        per_device_eval_batch_size=8,\n",
    "        num_train_epochs=30,\n",
    "        weight_decay=0.01,\n",
    "        logging_dir=\"./logs\",\n",
    "    )\n",
    "\n",
    "    trainer = Trainer(\n",
    "        model=model,\n",
    "        args=training_args,\n",
    "        train_dataset=dataset[\"train\"],\n",
    "        eval_dataset = test_dataset[\"train\"],\n",
    "        # predict_with_generate = True,\n",
    "        # preprocess_logits_for_metrics=preprocess_logits_for_metrics\n",
    "        # compute_loss_func=compute_loss_func\n",
    "    )\n",
    "\n",
    "    trainer.train()\n"
   ]
  },
  {
   "cell_type": "code",
   "execution_count": null,
   "metadata": {},
   "outputs": [],
   "source": [
    "model.save_pretrained(\"./t5_small_anticipation\")\n",
    "tokenizer.save_pretrained(\"./t5_small_anticipation\")"
   ]
  },
  {
   "cell_type": "code",
   "execution_count": null,
   "metadata": {},
   "outputs": [],
   "source": [
    "from transformers import AutoTokenizer, AutoModelForSeq2SeqLM\n",
    "from datasets import load_dataset\n",
    "import torch\n",
    "\n",
    "model_name = \"./t5_small_anticipation\"\n",
    "\n",
    "# model_name = \"t5_small\"\n",
    "tokenizer = AutoTokenizer.from_pretrained(model_name)\n",
    "model = AutoModelForSeq2SeqLM.from_pretrained(model_name).to(\"cuda\")\n",
    "def generate_answer(context=\"\"):\n",
    "    input_text = context\n",
    "    input_ids = tokenizer(input_text, return_tensors=\"pt\").input_ids.to(\"cuda\")\n",
    "    output_ids = model.generate(input_ids)\n",
    "    return tokenizer.decode(output_ids[0], skip_special_tokens=True)"
   ]
  },
  {
   "cell_type": "code",
   "execution_count": null,
   "metadata": {},
   "outputs": [],
   "source": [
    "test_dataset = load_dataset(\"csv\", data_files=\"/Users/eddie/Downloads/VLMTrain/MViTv2/MViTv2_Test_Anticipation.csv\")\n",
    "test_dataset = test_dataset[\"train\"]\n",
    "# questions = test_dataset[\"question\"]\n",
    "context = test_dataset[\"context\"]\n",
    "labels = test_dataset[\"answer\"]    \n",
    "print(test_dataset)\n",
    "print(labels)\n",
    "print(context)"
   ]
  },
  {
   "cell_type": "code",
   "execution_count": null,
   "metadata": {},
   "outputs": [],
   "source": [
    "generated_answers = []\n",
    "for i in range(len(context)):\n",
    "    # print(questions[i], context[i])\n",
    "    generated_answers.append(generate_answer(context[i]))\n",
    "    print(generated_answers[i])\n",
    "print(generated_answers)\n",
    "print(labels)"
   ]
  },
  {
   "cell_type": "code",
   "execution_count": null,
   "metadata": {},
   "outputs": [],
   "source": [
    "correct = 0\n",
    "total = 0\n",
    "for i in range(len(generated_answers)):\n",
    "    if((generated_answers[i])==(labels[i])):\n",
    "        correct = correct+1\n",
    "        print(correct, total)\n",
    "    total = total+1\n",
    "print(correct/total)"
   ]
  }
 ],
 "metadata": {
  "kernelspec": {
   "display_name": "LLM",
   "language": "python",
   "name": "python3"
  },
  "language_info": {
   "codemirror_mode": {
    "name": "ipython",
    "version": 3
   },
   "file_extension": ".py",
   "mimetype": "text/x-python",
   "name": "python",
   "nbconvert_exporter": "python",
   "pygments_lexer": "ipython3",
   "version": "3.9.21"
  }
 },
 "nbformat": 4,
 "nbformat_minor": 2
}
