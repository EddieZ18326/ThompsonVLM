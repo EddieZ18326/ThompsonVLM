{
 "cells": [
  {
   "cell_type": "code",
   "execution_count": null,
   "metadata": {},
   "outputs": [],
   "source": [
    "from transformers import EncoderDecoderModel, BertTokenizer, Trainer, TrainingArguments\n",
    "from datasets import load_dataset\n",
    "\n",
    "# Load tokenizer\n",
    "tokenizer = BertTokenizer.from_pretrained(\"bert-base-uncased\")\n",
    "\n",
    "# Load pre-trained BERT2BERT model\n",
    "model = EncoderDecoderModel.from_encoder_decoder_pretrained(\"bert-base-uncased\", \"bert-base-uncased\").to(\"cuda\")\n",
    "dataset = load_dataset(\"csv\", data_files=\"/Users/eddie/Downloads/VLMTrain/MViTv2_Train_Recognition_Full.csv\")\n",
    "test_dataset = load_dataset(\"csv\", data_files=\"/Users/eddie/Downloads/VLMTrain/MViTv2_Test_Recognition_Full.csv\")\n"
   ]
  },
  {
   "cell_type": "code",
   "execution_count": null,
   "metadata": {},
   "outputs": [],
   "source": [
    "# ✅ Set decoder start token ID (Important!)\n",
    "model.config.decoder_start_token_id = tokenizer.cls_token_id\n",
    "model.config.pad_token_id = tokenizer.pad_token_id"
   ]
  },
  {
   "cell_type": "code",
   "execution_count": null,
   "metadata": {},
   "outputs": [],
   "source": [
    "def preprocess_data(examples):\n",
    "    q = \"What is the next action?\"\n",
    "    inputs = [f\"Question: {q} Context: {c}\" for c in zip(examples[\"context\"])]\n",
    "    targets = examples[\"answer\"]\n",
    "    model_inputs = tokenizer(inputs, padding=\"max_length\", truncation=True, max_length=512)\n",
    "    labels = tokenizer(targets, padding=\"max_length\", truncation=True, max_length=25)\n",
    "    model_inputs[\"labels\"] = labels[\"input_ids\"]\n",
    "    return model_inputs\n",
    "\n",
    "dataset = dataset.map(preprocess_data, batched=True)\n",
    "test_dataset = test_dataset.map(preprocess_data, batched = True)\n",
    "print(dataset)\n"
   ]
  },
  {
   "cell_type": "code",
   "execution_count": null,
   "metadata": {},
   "outputs": [],
   "source": [
    "from transformers import TrainingArguments, Trainer\n",
    "\n",
    "training_args = TrainingArguments(\n",
    "    output_dir=\"./bert_qa\",\n",
    "    evaluation_strategy=\"epoch\",\n",
    "    save_strategy=\"no\",\n",
    "    per_device_train_batch_size=8,\n",
    "    per_device_eval_batch_size=8,\n",
    "    num_train_epochs=30,\n",
    "    weight_decay=0.01,\n",
    "    logging_dir=\"./logs\",\n",
    ")\n",
    "\n",
    "trainer = Trainer(\n",
    "    model=model,\n",
    "    args=training_args,\n",
    "    train_dataset=dataset[\"train\"],\n",
    "    eval_dataset = test_dataset[\"train\"],\n",
    ")\n",
    "\n",
    "trainer.train()\n"
   ]
  },
  {
   "cell_type": "code",
   "execution_count": null,
   "metadata": {},
   "outputs": [],
   "source": [
    "model.save_pretrained(\"./bert_full\", from_pt=True) \n",
    "tokenizer.save_pretrained(\"./bert_full\")"
   ]
  },
  {
   "cell_type": "code",
   "execution_count": null,
   "metadata": {},
   "outputs": [],
   "source": [
    "# from transformers import EncoderDecoderModel, BertTokenizer\n",
    "\n",
    "# # Load trained model and tokenizer\n",
    "model_name = \"./Recognition/bert_full\"  # Change to your actual model path\n",
    "tokenizer = BertTokenizer.from_pretrained(model_name)\n",
    "model = EncoderDecoderModel.from_pretrained(model_name).to(\"cuda\")\n",
    "\n",
    "# Ensure correct config\n",
    "model.config.decoder_start_token_id = tokenizer.cls_token_id\n",
    "model.config.pad_token_id = tokenizer.pad_token_id\n",
    "model.config.eos_token_id = tokenizer.sep_token_id\n",
    "model.config.max_length = 150  # Adjust as needed\n",
    "\n",
    "def generate_answer(context=\"\"):\n",
    "    input_text = context\n",
    "    input_ids = tokenizer(input_text, return_tensors=\"pt\").input_ids.to(\"cuda\")\n",
    "    output_ids = model.generate(input_ids)\n",
    "    return tokenizer.decode(output_ids[0], skip_special_tokens=True)\n",
    "# print(generate_answer(\"What is the next action?\", \"palpate landmark, take swab, prep site, take syringe\"))"
   ]
  },
  {
   "cell_type": "code",
   "execution_count": null,
   "metadata": {},
   "outputs": [],
   "source": [
    "test_dataset = load_dataset(\"csv\", data_files=\"/Users/eddie/Downloads/VLMTrain/MViTv2/MViTv2_Test_Recognition.csv\")\n",
    "test_dataset = test_dataset[\"train\"]\n",
    "# questions = test_dataset[\"question\"]\n",
    "context = test_dataset[\"context\"]\n",
    "labels = test_dataset[\"answer\"]    \n",
    "print(test_dataset)\n",
    "print(labels)\n",
    "print(context)"
   ]
  },
  {
   "cell_type": "code",
   "execution_count": null,
   "metadata": {},
   "outputs": [],
   "source": [
    "generated_answers = []\n",
    "for i in range(len(context)):\n",
    "    # print(questions[i], context[i])\n",
    "    generated_answers.append(generate_answer(context[i]))\n",
    "    print(generated_answers[i])\n",
    "    \n",
    "print(generated_answers)\n",
    "print(labels)"
   ]
  },
  {
   "cell_type": "code",
   "execution_count": null,
   "metadata": {},
   "outputs": [],
   "source": [
    "correct = 0\n",
    "total = 0\n",
    "for i in range(len(generated_answers)):\n",
    "    if((generated_answers[i])==(labels[i])):\n",
    "        correct = correct+1\n",
    "        print(correct, total)\n",
    "    total = total+1\n",
    "print(correct/total)"
   ]
  }
 ],
 "metadata": {
  "kernelspec": {
   "display_name": "LLM",
   "language": "python",
   "name": "python3"
  },
  "language_info": {
   "codemirror_mode": {
    "name": "ipython",
    "version": 3
   },
   "file_extension": ".py",
   "mimetype": "text/x-python",
   "name": "python",
   "nbconvert_exporter": "python",
   "pygments_lexer": "ipython3",
   "version": "3.9.21"
  }
 },
 "nbformat": 4,
 "nbformat_minor": 2
}
