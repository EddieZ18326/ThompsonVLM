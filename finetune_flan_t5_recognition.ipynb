{
 "cells": [
  {
   "cell_type": "code",
   "execution_count": null,
   "metadata": {},
   "outputs": [],
   "source": [
    "from transformers import T5Tokenizer, T5ForConditionalGeneration\n",
    "from datasets import load_dataset\n",
    "    \n",
    "model_name = \"google/flan-t5-small\"  # or \"google/flan-t5-small\" for a better version\n",
    "tokenizer = T5Tokenizer.from_pretrained(model_name)\n",
    "model = T5ForConditionalGeneration.from_pretrained(model_name)\n",
    "dataset = load_dataset(\"csv\", data_files=\"/Users/eddie/Downloads/VLMTrain/Train/Train_Recognition_All.csv\")\n",
    "test_dataset = load_dataset(\"csv\", data_files=\"/Users/eddie/Downloads/VLMTrain/MViTv2/MViTv2_Test_Recognition.csv\")\n",
    "print(dataset)\n"
   ]
  },
  {
   "cell_type": "code",
   "execution_count": null,
   "metadata": {},
   "outputs": [],
   "source": [
    "def preprocess_data(examples):\n",
    "    inputs = examples[\"context\"]\n",
    "    print(inputs)\n",
    "    targets = examples[\"answer\"]\n",
    "    model_inputs = tokenizer(inputs, padding=\"max_length\", truncation=True, max_length=1024)\n",
    "    labels = tokenizer(targets, padding=\"max_length\", truncation=True, max_length=25)\n",
    "    model_inputs[\"labels\"] = labels[\"input_ids\"]\n",
    "    return model_inputs\n",
    "\n",
    "dataset = dataset.map(preprocess_data, batched=True)\n",
    "test_dataset = test_dataset.map(preprocess_data, batched = True)\n",
    "print(dataset)\n"
   ]
  },
  {
   "cell_type": "code",
   "execution_count": null,
   "metadata": {},
   "outputs": [],
   "source": [
    "num_epochs = 1 \n",
    "from transformers import TrainingArguments, Trainer\n",
    "for i in range(num_epochs):\n",
    "\n",
    "    training_args = TrainingArguments(\n",
    "        output_dir=\"./t5_qa\",\n",
    "        evaluation_strategy=\"epoch\",\n",
    "        save_strategy=\"no\",\n",
    "        per_device_train_batch_size=8,\n",
    "        per_device_eval_batch_size=8,\n",
    "        num_train_epochs=30,\n",
    "        weight_decay=0.01,\n",
    "        logging_dir=\"./logs\",\n",
    "    )\n",
    "\n",
    "    trainer = Trainer(\n",
    "        model=model,\n",
    "        args=training_args,\n",
    "        train_dataset=dataset[\"train\"],\n",
    "        eval_dataset = test_dataset[\"train\"],\n",
    "        # predict_with_generate = True,\n",
    "        # preprocess_logits_for_metrics=preprocess_logits_for_metrics\n",
    "        # compute_loss_func=compute_loss_func\n",
    "    )\n",
    "\n",
    "    trainer.train()\n"
   ]
  },
  {
   "cell_type": "code",
   "execution_count": null,
   "metadata": {},
   "outputs": [],
   "source": [
    "model.save_pretrained(\"./t5_recognition_full\", from_pt=True) \n",
    "tokenizer.save_pretrained(\"./t5_recognition_full\")"
   ]
  },
  {
   "cell_type": "code",
   "execution_count": null,
   "metadata": {},
   "outputs": [],
   "source": [
    "# from transformers import EncoderDecoderModel, BertTokenizer\n",
    "\n",
    "# # Load trained model and tokenizer\n",
    "# model_name = \"./bert_qa\"  # Change to your actual model path\n",
    "# tokenizer = BertTokenizer.from_pretrained(model_name)\n",
    "# model = EncoderDecoderModel.from_pretrained(model_name)\n",
    "\n",
    "# Ensure correct config\n",
    "# model.config.decoder_start_token_id = tokenizer.cls_token_id\n",
    "# model.config.pad_token_id = tokenizer.pad_token_id\n",
    "# model.config.eos_token_id = tokenizer.sep_token_id\n",
    "# model.config.max_length = 150  # Adjust as needed\n",
    "from transformers import T5Tokenizer, T5ForConditionalGeneration\n",
    "from datasets import load_dataset\n",
    "\n",
    "model_name = \"./Recognition/flan_t5_recognition_full\"  # or \"google/flan-t5-small\" for a better version\n",
    "tokenizer = T5Tokenizer.from_pretrained(model_name)\n",
    "model = T5ForConditionalGeneration.from_pretrained(model_name).to(\"cuda\")\n",
    "def generate_answer(context=\"\"):\n",
    "    input_text = context\n",
    "    input_ids = tokenizer(input_text, return_tensors=\"pt\").input_ids.to(\"cuda\")\n",
    "    output_ids = model.generate(input_ids,  num_return_sequences = 1)\n",
    "    return tokenizer.decode(output_ids[0], skip_special_tokens=True)\n",
    "    # return predictions\n",
    "\n",
    "print(generate_answer(\"position tourniquet. tighten strap\"))"
   ]
  },
  {
   "cell_type": "code",
   "execution_count": null,
   "metadata": {},
   "outputs": [],
   "source": [
    "test_dataset = load_dataset(\"csv\", data_files=\"/Users/eddie/Downloads/VLMTrain/MViTv2/MViTv2_Test_Recognition.csv\")\n",
    "test_dataset = test_dataset[\"train\"]\n",
    "# questions = test_dataset[\"question\"]\n",
    "context = test_dataset[\"context\"]\n",
    "labels = test_dataset[\"answer\"]    \n",
    "print(test_dataset)\n",
    "print(labels)\n",
    "print(context)"
   ]
  },
  {
   "cell_type": "code",
   "execution_count": null,
   "metadata": {},
   "outputs": [],
   "source": [
    "generated_answers = []\n",
    "for i in range(len(context)):\n",
    "    # print(questions[i], context[i])\n",
    "    generated_answers.append(generate_answer(context[i]))\n",
    "    print(generated_answers[i])\n",
    "print(generated_answers)\n",
    "print(labels)"
   ]
  },
  {
   "cell_type": "code",
   "execution_count": null,
   "metadata": {},
   "outputs": [],
   "source": [
    "correct = 0\n",
    "total = 0\n",
    "for i in range(len(generated_answers)):\n",
    "    if(labels[i] in generated_answers[i]):\n",
    "        correct = correct+1\n",
    "        print(correct, total)\n",
    "    total = total+1\n",
    "print(correct/total)"
   ]
  },
  {
   "cell_type": "code",
   "execution_count": null,
   "metadata": {},
   "outputs": [],
   "source": [
    "test_dataset = load_dataset(\"csv\", data_files=\"/Users/eddie/Downloads/VLMTrain/Uniformerv2/Uniformerv2_Test_Recognition.csv\")\n",
    "test_dataset = test_dataset[\"train\"]\n",
    "# questions = test_dataset[\"question\"]\n",
    "context = test_dataset[\"context\"]\n",
    "labels = test_dataset[\"answer\"]    \n",
    "print(test_dataset)\n",
    "print(labels)\n",
    "print(context)\n",
    "\n",
    "generated_answers = []\n",
    "for i in range(len(context)):\n",
    "    # print(questions[i], context[i])\n",
    "    generated_answers.append(generate_answer(context[i]))\n",
    "    print(generated_answers[i], labels[i])\n",
    "print(generated_answers)\n",
    "print(labels)\n",
    "\n",
    "correct = 0\n",
    "total = 0\n",
    "for i in range(len(generated_answers)):\n",
    "    if((generated_answers[i])==(labels[i])):\n",
    "        correct = correct+1\n",
    "        print(correct, total)\n",
    "    total = total+1\n",
    "print(correct/total)"
   ]
  },
  {
   "cell_type": "code",
   "execution_count": null,
   "metadata": {},
   "outputs": [],
   "source": [
    "test_dataset = load_dataset(\"csv\", data_files=\"/Users/eddie/Downloads/VLMTrain/VideoMAE/VideoMAE_Test_Recognition.csv\")\n",
    "test_dataset = test_dataset[\"train\"]\n",
    "# questions = test_dataset[\"question\"]\n",
    "context = test_dataset[\"context\"]\n",
    "labels = test_dataset[\"answer\"]    \n",
    "print(test_dataset)\n",
    "print(labels)\n",
    "print(context)\n",
    "\n",
    "generated_answers = []\n",
    "for i in range(len(context)):\n",
    "    # print(questions[i], context[i])\n",
    "    generated_answers.append(generate_answer(context[i]))\n",
    "    print(generated_answers[i], labels[i])\n",
    "print(generated_answers)\n",
    "print(labels)\n",
    "\n",
    "correct = 0\n",
    "total = 0\n",
    "for i in range(len(generated_answers)):\n",
    "    if((generated_answers[i])==(labels[i])):\n",
    "        correct = correct+1\n",
    "        print(correct, total)\n",
    "    total = total+1\n",
    "print(correct/total)"
   ]
  },
  {
   "cell_type": "code",
   "execution_count": null,
   "metadata": {},
   "outputs": [],
   "source": [
    "test_dataset = load_dataset(\"csv\", data_files=\"/Users/eddie/Downloads/VLMTrain/VideoSwin/Swin_Test_Recognition.csv\")\n",
    "test_dataset = test_dataset[\"train\"]\n",
    "# questions = test_dataset[\"question\"]\n",
    "context = test_dataset[\"context\"]\n",
    "labels = test_dataset[\"answer\"]    \n",
    "print(test_dataset)\n",
    "print(labels)\n",
    "print(context)\n",
    "\n",
    "generated_answers = []\n",
    "for i in range(len(context)):\n",
    "    # print(questions[i], context[i])\n",
    "    generated_answers.append(generate_answer(context[i]))\n",
    "    print(generated_answers[i], labels[i])\n",
    "print(generated_answers)\n",
    "print(labels)\n",
    "\n",
    "correct = 0\n",
    "total = 0\n",
    "for i in range(len(generated_answers)):\n",
    "    if((generated_answers[i])==(labels[i])):\n",
    "        correct = correct+1\n",
    "        print(correct, total)\n",
    "    total = total+1\n",
    "print(correct/total)"
   ]
  }
 ],
 "metadata": {
  "kernelspec": {
   "display_name": "LLM",
   "language": "python",
   "name": "python3"
  },
  "language_info": {
   "codemirror_mode": {
    "name": "ipython",
    "version": 3
   },
   "file_extension": ".py",
   "mimetype": "text/x-python",
   "name": "python",
   "nbconvert_exporter": "python",
   "pygments_lexer": "ipython3",
   "version": "3.9.21"
  }
 },
 "nbformat": 4,
 "nbformat_minor": 2
}
