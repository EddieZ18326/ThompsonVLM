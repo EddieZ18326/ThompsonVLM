{
 "cells": [
  {
   "cell_type": "code",
   "execution_count": null,
   "metadata": {},
   "outputs": [],
   "source": [
    "from datasets import load_dataset\n",
    "from transformers import BartTokenizer, BartForConditionalGeneration, Trainer, TrainingArguments\n",
    "from sklearn.metrics import accuracy_score\n",
    "from transformers import BartTokenizer, BartForConditionalGeneration\n",
    "\n",
    "model_name = \"facebook/bart-base\"  # or \"facebook/bart-large\"\n",
    "\n",
    "tokenizer = BartTokenizer.from_pretrained(model_name)\n",
    "model = BartForConditionalGeneration.from_pretrained(model_name)\n",
    "\n",
    "# dataset = load_dataset(\"csv\", data_files=\"/Users/eddie/Downloads/VLMTrain/MViTv2_Train.csv\")\n",
    "dataset = load_dataset(\"csv\", data_files=\"/Users/eddie/Downloads/VLMTrain/Train/Train_Anticipation_All.csv\")\n",
    "test_dataset = load_dataset(\"csv\", data_files=\"/Users/eddie/Downloads/VLMTrain/MViTv2/MViTv2_Test_Anticipation.csv\")\n"
   ]
  },
  {
   "cell_type": "code",
   "execution_count": null,
   "metadata": {},
   "outputs": [],
   "source": [
    "def preprocess_data(examples):\n",
    "    q = \"What is the next action?\"\n",
    "    inputs = [f\"Question: {q} Context: {c}\" for c in zip(examples[\"context\"])]\n",
    "    targets = examples[\"answer\"]\n",
    "    model_inputs = tokenizer(inputs, padding=\"max_length\", truncation=True, max_length=512)\n",
    "    labels = tokenizer(targets, padding=\"max_length\", truncation=True, max_length=25)\n",
    "    model_inputs[\"labels\"] = labels[\"input_ids\"]\n",
    "    return model_inputs\n",
    "\n",
    "dataset = dataset.map(preprocess_data, batched=True)\n",
    "test_dataset = test_dataset.map(preprocess_data, batched = True)\n",
    "print(dataset)\n"
   ]
  },
  {
   "cell_type": "code",
   "execution_count": null,
   "metadata": {},
   "outputs": [],
   "source": [
    "num_epochs = 1 \n",
    "from transformers import TrainingArguments, Trainer\n",
    "for i in range(num_epochs):\n",
    "\n",
    "    training_args = TrainingArguments(\n",
    "        output_dir=\"./bart_qa\",\n",
    "        evaluation_strategy=\"epoch\",\n",
    "        save_strategy=\"no\",\n",
    "        per_device_train_batch_size=8,\n",
    "        per_device_eval_batch_size=8,\n",
    "        num_train_epochs=30,\n",
    "        weight_decay=0.01,\n",
    "        logging_dir=\"./logs\",\n",
    "    )\n",
    "\n",
    "    trainer = Trainer(\n",
    "        model=model,\n",
    "        args=training_args,\n",
    "        train_dataset=dataset[\"train\"],\n",
    "        eval_dataset = test_dataset[\"train\"],\n",
    "        # predict_with_generate = True,\n",
    "        # preprocess_logits_for_metrics=preprocess_logits_for_metrics\n",
    "        # compute_loss_func=compute_loss_func\n",
    "    )\n",
    "\n",
    "    trainer.train()\n"
   ]
  },
  {
   "cell_type": "code",
   "execution_count": null,
   "metadata": {},
   "outputs": [],
   "source": [
    "model.save_pretrained(\"./bart_anticipation\", from_pt=True) \n",
    "tokenizer.save_pretrained(\"./bart_anticipation\")"
   ]
  },
  {
   "cell_type": "code",
   "execution_count": null,
   "metadata": {},
   "outputs": [],
   "source": [
    "# from transformers import EncoderDecoderModel, BertTokenizer\n",
    "\n",
    "# # Load trained model and tokenizer\n",
    "model_name = \"./bart_anticipation\"  # Change to your actual model path\n",
    "tokenizer = BartTokenizer.from_pretrained(model_name)\n",
    "model = BartForConditionalGeneration.from_pretrained(model_name).to(\"cuda\")\n",
    "\n",
    "# Ensure correct config\n",
    "\n",
    "def generate_answer(question, context):\n",
    "    # Format input as: \"question: ... context: ...\"\n",
    "    input_text = f\"question: {question}  context: {context}\"\n",
    "\n",
    "    # Tokenize input\n",
    "    inputs = tokenizer(input_text, return_tensors=\"pt\", truncation=True, max_length=512).to(\"cuda\")\n",
    "\n",
    "    # Generate response\n",
    "    output_ids = model.generate(inputs.input_ids, max_length=100, num_beams=5)\n",
    "\n",
    "    # Decode output tokens\n",
    "    answer = tokenizer.decode(output_ids[0], skip_special_tokens=True)\n",
    "    return answer\n",
    "\n",
    "# print(generate_answer(\"What is the next action?\", \"palpate landmark, take swab, prep site\"))"
   ]
  },
  {
   "cell_type": "code",
   "execution_count": null,
   "metadata": {},
   "outputs": [],
   "source": [
    "test_dataset = load_dataset(\"csv\", data_files=\"/Users/eddie/Downloads/VLMTrain/MViTv2/MViTv2_Test_Anticipation.csv\")\n",
    "test_dataset = test_dataset[\"train\"]\n",
    "# questions = test_dataset[\"question\"]\n",
    "context = test_dataset[\"context\"]\n",
    "labels = test_dataset[\"answer\"]    \n",
    "print(test_dataset)\n",
    "print(labels)\n",
    "print(context)"
   ]
  },
  {
   "cell_type": "code",
   "execution_count": null,
   "metadata": {},
   "outputs": [],
   "source": [
    "generated_answers = []\n",
    "for i in range(len(context)):\n",
    "    # print(questions[i], context[i])\n",
    "    generated_answers.append(generate_answer(\"What is the next action?\", context[i]))\n",
    "    print(generated_answers[i], labels[i])\n",
    "print(generated_answers)\n",
    "print(labels)"
   ]
  },
  {
   "cell_type": "code",
   "execution_count": null,
   "metadata": {},
   "outputs": [],
   "source": [
    "correct = 0\n",
    "total = 0\n",
    "for i in range(len(generated_answers)):\n",
    "    if((generated_answers[i])==(labels[i])):\n",
    "        correct = correct+1\n",
    "        print(correct, total)\n",
    "    total = total+1\n",
    "print(correct/total)"
   ]
  }
 ],
 "metadata": {
  "kernelspec": {
   "display_name": "LLM",
   "language": "python",
   "name": "python3"
  },
  "language_info": {
   "codemirror_mode": {
    "name": "ipython",
    "version": 3
   },
   "file_extension": ".py",
   "mimetype": "text/x-python",
   "name": "python",
   "nbconvert_exporter": "python",
   "pygments_lexer": "ipython3",
   "version": "3.9.21"
  }
 },
 "nbformat": 4,
 "nbformat_minor": 2
}
