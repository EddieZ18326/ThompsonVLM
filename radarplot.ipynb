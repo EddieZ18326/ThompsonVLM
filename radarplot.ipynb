{
 "cells": [
  {
   "cell_type": "code",
   "execution_count": null,
   "id": "96df675e",
   "metadata": {},
   "outputs": [],
   "source": [
    "import matplotlib.pyplot as plt\n",
    "import numpy as np\n",
    "\n",
    "# Sample data\n",
    "labels = ['Cricothyroidotomy', 'Tube Thoracostomy', 'Needle Thoracostomy', 'Intraosseous Infusion', 'Tourniquet Application']\n",
    "num_vars = len(labels)\n",
    "\n",
    "# Values for a single data set (must match number of labels)\n",
    "values = [67.38, 39.32, 80.70, 76.47, 69.09]\n",
    "\n",
    "# Repeat the first value to close the circle\n",
    "values += values[:1]\n",
    "\n",
    "# Calculate angle for each axis in the plot\n",
    "angles = np.linspace(0, 2 * np.pi, num_vars, endpoint=False).tolist()\n",
    "angles += angles[:1]\n",
    "\n",
    "# Create radar chart\n",
    "fig, ax = plt.subplots(figsize=(6, 6), subplot_kw=dict(polar=True))\n",
    "\n",
    "# Plot data\n",
    "ax.plot(angles, values, color='blue', linewidth=2)\n",
    "ax.fill(angles, values, color='blue', alpha=0.25)\n",
    "\n",
    "# Set axis labels\n",
    "ax.set_xticks(angles[:-1])\n",
    "ax.set_xticklabels(labels)\n",
    "\n",
    "# ✅ Set radial ticks (interior lines) and make sure they're visible\n",
    "radial_ticks = [20,40,60,80,100]\n",
    "ax.set_yticks(radial_ticks)\n",
    "ax.set_yticklabels([f'{tick}%' for tick in radial_ticks], fontsize=10, color='black')\n",
    "ax.set_ylim(0, 100)  # ✅ Force the y-axis range to match your tick labels\n",
    "ax.set_rlabel_position(45)\n",
    "# Optional styling\n",
    "# ax.set_rlabel_position(0)\n",
    "ax.set_title('Radar Chart for Action Anticipation Procedures', size=16, pad=20)\n",
    "\n",
    "plt.show()"
   ]
  }
 ],
 "metadata": {
  "kernelspec": {
   "display_name": "LLM",
   "language": "python",
   "name": "python3"
  },
  "language_info": {
   "codemirror_mode": {
    "name": "ipython",
    "version": 3
   },
   "file_extension": ".py",
   "mimetype": "text/x-python",
   "name": "python",
   "nbconvert_exporter": "python",
   "pygments_lexer": "ipython3",
   "version": "3.9.21"
  }
 },
 "nbformat": 4,
 "nbformat_minor": 5
}
