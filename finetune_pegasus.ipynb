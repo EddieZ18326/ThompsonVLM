{
 "cells": [
  {
   "cell_type": "code",
   "execution_count": null,
   "metadata": {},
   "outputs": [],
   "source": [
    "from transformers import PegasusTokenizer\n",
    "from datasets import load_dataset\n",
    "from transformers import PegasusForConditionalGeneration, TrainingArguments, Trainer\n",
    "\n",
    "# Load model\n",
    "\n",
    "model_name = \"google/pegasus-xsum\"\n",
    "tokenizer = PegasusTokenizer.from_pretrained(model_name)\n",
    "model = PegasusForConditionalGeneration.from_pretrained(model_name)\n",
    "\n",
    "# Tokenization function\n",
    "def preprocess_data(examples):\n",
    "    q = \"What is the next action?\"\n",
    "    inputs = [f\"Question: {q} Context: {c}\" for c in zip(examples[\"context\"])]\n",
    "    targets = examples[\"answer\"]\n",
    "    model_inputs = tokenizer(inputs, padding=\"max_length\", truncation=True, max_length=512)\n",
    "    labels = tokenizer(targets, padding=\"max_length\", truncation=True, max_length=25)\n",
    "    model_inputs[\"labels\"] = labels[\"input_ids\"]\n",
    "    return model_inputs\n",
    "\n",
    "dataset = load_dataset(\"csv\", data_files=\"/Users/eddie/Downloads/VLMTrain/MViTv2_Train_Recognition_Full.csv\")\n",
    "test_dataset = load_dataset(\"csv\", data_files=\"/Users/eddie/Downloads/VLMTrain/MViTv2_Test_Recognition_Full.csv\")\n",
    "# Apply tokenization\n",
    "\n",
    "dataset = dataset.map(preprocess_data, batched=True)\n",
    "test_dataset = test_dataset.map(preprocess_data, batched = True)\n"
   ]
  },
  {
   "cell_type": "code",
   "execution_count": null,
   "metadata": {},
   "outputs": [],
   "source": [
    "\n",
    "\n",
    "# Training arguments\n",
    "training_args = TrainingArguments(\n",
    "    output_dir=\"./pegasus-finetuned\",\n",
    "    # evaluation_strategy=\"epoch\",\n",
    "    save_strategy=\"no\",\n",
    "    per_device_train_batch_size=4,\n",
    "    per_device_eval_batch_size=4,\n",
    "    learning_rate=5e-5,\n",
    "    weight_decay=0.01,\n",
    "    num_train_epochs=30,\n",
    "    logging_dir=\"./logs\",\n",
    "    logging_steps=500,\n",
    "    save_total_limit=2,\n",
    "    load_best_model_at_end=True,\n",
    "    fp16=True\n",
    ")\n",
    "\n",
    "# Trainer\n",
    "trainer = Trainer(\n",
    "    model=model,\n",
    "    args=training_args,\n",
    "    train_dataset=dataset[\"train\"],\n",
    "    eval_dataset=test_dataset[\"train\"],\n",
    ")\n",
    "\n",
    "# Train the model\n",
    "trainer.train()\n"
   ]
  },
  {
   "cell_type": "code",
   "execution_count": null,
   "metadata": {},
   "outputs": [],
   "source": [
    "model.save_pretrained(\"./pegasus\")\n",
    "tokenizer.save_pretrained(\"./pegasus\")\n"
   ]
  },
  {
   "cell_type": "code",
   "execution_count": null,
   "metadata": {},
   "outputs": [],
   "source": [
    "from transformers import PegasusForConditionalGeneration, PegasusTokenizer\n",
    "import torch\n",
    "# Load fine-tuned model\n",
    "model = PegasusForConditionalGeneration.from_pretrained(\"./Recognition/pegasus\").to(\"cuda\")\n",
    "tokenizer = PegasusTokenizer.from_pretrained(\"./Recognition/pegasus\")\n",
    "\n",
    "def generate_answer(context=\"\"):\n",
    "    input_text = context\n",
    "    input_ids = tokenizer(input_text, return_tensors=\"pt\").input_ids.to(\"cuda\")\n",
    "    output_ids = model.generate(input_ids)\n",
    "    return tokenizer.decode(output_ids[0], skip_special_tokens=True)\n",
    "\n",
    "# Example\n",
    "print(generate_answer(\"palpate landmark, take swab\"))"
   ]
  },
  {
   "cell_type": "code",
   "execution_count": null,
   "metadata": {},
   "outputs": [],
   "source": [
    "test_dataset = load_dataset(\"csv\", data_files=\"/Users/eddie/Downloads/VLMTrain/MViTv2_Test.csv\")\n",
    "test_dataset = test_dataset[\"train\"]\n",
    "# questions = test_dataset[\"question\"]\n",
    "context = test_dataset[\"context\"]\n",
    "labels = test_dataset[\"answer\"]    \n",
    "print(test_dataset)\n",
    "print(labels)"
   ]
  },
  {
   "cell_type": "code",
   "execution_count": null,
   "metadata": {},
   "outputs": [],
   "source": [
    "generated_answers = []\n",
    "for i in range(len(context)):\n",
    "    # print(questions[i], context[i])\n",
    "    generated_answers.append(generate_answer(context[i]))\n",
    "    print(generated_answers[i], labels[i])\n"
   ]
  },
  {
   "cell_type": "code",
   "execution_count": null,
   "metadata": {},
   "outputs": [],
   "source": [
    "print(generated_answers)\n",
    "print(labels)"
   ]
  },
  {
   "cell_type": "code",
   "execution_count": null,
   "metadata": {},
   "outputs": [],
   "source": [
    "correct = 0\n",
    "total = 0\n",
    "for i in range(len(generated_answers)):\n",
    "    if(generated_answers[i]==labels[i]):\n",
    "        correct = correct+1\n",
    "    total = total+1\n",
    "print(correct/total)"
   ]
  }
 ],
 "metadata": {
  "kernelspec": {
   "display_name": "LLM",
   "language": "python",
   "name": "python3"
  },
  "language_info": {
   "codemirror_mode": {
    "name": "ipython",
    "version": 3
   },
   "file_extension": ".py",
   "mimetype": "text/x-python",
   "name": "python",
   "nbconvert_exporter": "python",
   "pygments_lexer": "ipython3",
   "version": "3.9.21"
  }
 },
 "nbformat": 4,
 "nbformat_minor": 2
}
